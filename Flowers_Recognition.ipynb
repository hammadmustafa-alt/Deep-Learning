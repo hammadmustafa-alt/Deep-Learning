{
  "nbformat": 4,
  "nbformat_minor": 0,
  "metadata": {
    "colab": {
      "name": "Flowers_Recognition.ipynb",
      "provenance": [],
      "collapsed_sections": [],
      "include_colab_link": true
    },
    "kernelspec": {
      "name": "python3",
      "display_name": "Python 3"
    }
  },
  "cells": [
    {
      "cell_type": "markdown",
      "metadata": {
        "id": "view-in-github",
        "colab_type": "text"
      },
      "source": [
        "<a href=\"https://colab.research.google.com/github/hammadmustafa-alt/Deep-Learning/blob/main/Flowers_Recognition.ipynb\" target=\"_parent\"><img src=\"https://colab.research.google.com/assets/colab-badge.svg\" alt=\"Open In Colab\"/></a>"
      ]
    },
    {
      "cell_type": "markdown",
      "metadata": {
        "id": "BXgJ6uT1NydQ"
      },
      "source": [
        "Assignment: Flowers Recognition <br>\n",
        "Dataset Description:<br>\n",
        "\n",
        "This dataset contains 4242 images of flowers.<br>\n",
        "The data collection is based on the data flicr, google images, yandex images.<br>\n",
        "You can use this datastet to recognize plants from the photo.<br>\n",
        "\n",
        "Attribute Information:<br>\n",
        "The pictures are divided into five classes: chamomile, tulip, rose, sunflower, dandelion.<br>\n",
        "For each class there are about 800 photos. Photos are not high resolution, about 320x240 pixels. <br>\n",
        "<b>Also explore how to resize images in tensorflow and then resize all the images to a same size. </b> <br>\n",
        "This is a Multiclass Classification Problem.<br>\n",
        "\n",
        "\n"
      ]
    },
    {
      "cell_type": "markdown",
      "metadata": {
        "id": "T7vy-ktuOKJH"
      },
      "source": [
        "WORKFLOW : <br>\n",
        "Load Data <br>\n",
        "Split into 60 and 40 ratio.<br>\n",
        "Encode labels.<br>\n",
        "Create Model<br>\n",
        "Compilation Step (Note : Its a Multiclass Classification problem , select loss , metrics according to it)<br>\n",
        "Train the Model.<br>\n",
        "If the model gets overfit tune your model by changing the units , No. of layers , epochs , add dropout layer or add Regularizer according to the need .<br>\n",
        "Prediction should be > 85%<br>\n",
        "Evaluation Step<br>\n",
        "Prediction<br>\n",
        "\n",
        "\n"
      ]
    },
    {
      "cell_type": "markdown",
      "metadata": {
        "id": "ri3Bg5qfPRic"
      },
      "source": [
        "Data : <br>\n",
        "https://drive.google.com/file/d/1-OX6wn5gA-bJpjPNfSyaYQLz-A-AB_uj/view?usp=sharing"
      ]
    },
    {
      "cell_type": "code",
      "metadata": {
        "id": "hTtg3WuGTA1o",
        "colab": {
          "base_uri": "https://localhost:8080/"
        },
        "outputId": "dc19957d-559d-4771-ecfa-b33b18c7121e"
      },
      "source": [
        "from google.colab import drive\n",
        "drive.mount('/content/drive')"
      ],
      "execution_count": 34,
      "outputs": [
        {
          "output_type": "stream",
          "text": [
            "Drive already mounted at /content/drive; to attempt to forcibly remount, call drive.mount(\"/content/drive\", force_remount=True).\n"
          ],
          "name": "stdout"
        }
      ]
    },
    {
      "cell_type": "code",
      "metadata": {
        "id": "g91PAbc9C26n"
      },
      "source": [
        "import numpy as np\n",
        "import pandas as pd\n",
        "import tensorflow as tf\n",
        "import seaborn as sns\n",
        "import matplotlib.pyplot as plt\n",
        "import os\n",
        "from os import listdir \n",
        "from os.path import join \n",
        "import cv2 \n",
        "import pathlib\n",
        "from pathlib import Path\n",
        "from tensorflow.keras import models, layers, optimizers\n",
        "from tensorflow.keras.utils import to_categorical\n",
        "from sklearn.preprocessing import LabelBinarizer, LabelEncoder"
      ],
      "execution_count": 35,
      "outputs": []
    },
    {
      "cell_type": "code",
      "metadata": {
        "id": "CfT4NItm5v8o"
      },
      "source": [
        "directory = Path('/content/drive/MyDrive/flowers')"
      ],
      "execution_count": 36,
      "outputs": []
    },
    {
      "cell_type": "code",
      "metadata": {
        "colab": {
          "base_uri": "https://localhost:8080/"
        },
        "id": "IXpQoUgY5v_U",
        "outputId": "45a042c4-e597-4858-ee89-a2f72be8d709"
      },
      "source": [
        "flowers = []\n",
        "features = []\n",
        "labels = []\n",
        "\n",
        "for dir in directory.iterdir():\n",
        "  flowers.append(dir.name)\n",
        "  print(dir.name)\n",
        "  for imgpath in dir.iterdir():\n",
        "    if imgpath.name.endswith(\"jpg\"):\n",
        "      labels.append(dir.name)\n",
        "      imgarr = cv2.imread(str(imgpath), cv2.IMREAD_GRAYSCALE)\n",
        "      imgarr = cv2.resize(imgarr, (150,150))\n",
        "      features.append(imgarr)"
      ],
      "execution_count": 37,
      "outputs": [
        {
          "output_type": "stream",
          "text": [
            "tulip\n",
            "sunflower\n",
            "rose\n",
            "flowers\n",
            "dandelion\n",
            "daisy\n"
          ],
          "name": "stdout"
        }
      ]
    },
    {
      "cell_type": "code",
      "metadata": {
        "id": "Nd_Ep5UT5wC1"
      },
      "source": [
        "labels = LabelEncoder().fit_transform(labels)\n",
        "labels=to_categorical(labels)"
      ],
      "execution_count": 38,
      "outputs": []
    },
    {
      "cell_type": "code",
      "metadata": {
        "id": "YuQ-C4A45wFH",
        "colab": {
          "base_uri": "https://localhost:8080/"
        },
        "outputId": "6d1d0c4f-0729-4b0a-cf14-f73319f7ffce"
      },
      "source": [
        "image_names=np.asarray(flowers)\n",
        "image_names.shape"
      ],
      "execution_count": 39,
      "outputs": [
        {
          "output_type": "execute_result",
          "data": {
            "text/plain": [
              "(6,)"
            ]
          },
          "metadata": {
            "tags": []
          },
          "execution_count": 39
        }
      ]
    },
    {
      "cell_type": "code",
      "metadata": {
        "id": "tNzB4UUv5wI1"
      },
      "source": [
        "data = np.asarray(features).reshape(4326,150*150)\n",
        "data = data.astype(\"float32\")/255.0"
      ],
      "execution_count": 40,
      "outputs": []
    },
    {
      "cell_type": "code",
      "metadata": {
        "id": "riCCuUfD5wKN"
      },
      "source": [
        "import sklearn\n",
        "from sklearn.model_selection import train_test_split\n",
        "x_train,x_test,y_train,y_test=train_test_split(data,labels,test_size=.40,random_state=1)"
      ],
      "execution_count": 41,
      "outputs": []
    },
    {
      "cell_type": "code",
      "metadata": {
        "id": "fmDkqULy5wPR"
      },
      "source": [
        "from keras.models import Sequential\n",
        "from keras.layers import Dense, Dropout\n",
        "from keras import losses,optimizers,regularizers\n",
        "\n",
        "network = Sequential()\n",
        "\n",
        "network.add(Dense(256,kernel_regularizer=regularizers.l2(0.001),activation=\"relu\",input_shape=(x_train.shape[1],)))\n",
        "network.add(Dense(128,kernel_regularizer=regularizers.l2(0.001),activation='relu'))\n",
        "network.add(Dense(64,kernel_regularizer=regularizers.l2(0.001),activation='relu'))\n",
        "network.add(Dense(32,kernel_regularizer=regularizers.l2(0.001),activation='relu'))\n",
        "network.add(Dense(5,activation=\"softmax\"))"
      ],
      "execution_count": 42,
      "outputs": []
    },
    {
      "cell_type": "code",
      "metadata": {
        "id": "d5OKFYkq5wQy"
      },
      "source": [
        "network.compile(loss='categorical_crossentropy',optimizer='rmsPROP',metrics=['accuracy'])"
      ],
      "execution_count": 48,
      "outputs": []
    },
    {
      "cell_type": "code",
      "metadata": {
        "id": "hiERfmmb5wV3",
        "colab": {
          "base_uri": "https://localhost:8080/"
        },
        "outputId": "ec784704-7726-49b9-fe89-c9d5e0f7b14b"
      },
      "source": [
        "batch_size = 20\n",
        "epochs = 135\n",
        "history=network.fit(x_train, y_train, batch_size = batch_size, epochs = epochs)"
      ],
      "execution_count": 49,
      "outputs": [
        {
          "output_type": "stream",
          "text": [
            "Epoch 1/135\n",
            "130/130 [==============================] - 10s 72ms/step - loss: 6.4233 - accuracy: 0.2350\n",
            "Epoch 2/135\n",
            "130/130 [==============================] - 9s 72ms/step - loss: 1.8947 - accuracy: 0.2191\n",
            "Epoch 3/135\n",
            "130/130 [==============================] - 9s 72ms/step - loss: 1.6844 - accuracy: 0.2465\n",
            "Epoch 4/135\n",
            "130/130 [==============================] - 9s 72ms/step - loss: 1.6094 - accuracy: 0.2665\n",
            "Epoch 5/135\n",
            "130/130 [==============================] - 9s 72ms/step - loss: 1.5816 - accuracy: 0.2833\n",
            "Epoch 6/135\n",
            "130/130 [==============================] - 9s 71ms/step - loss: 1.5706 - accuracy: 0.2963\n",
            "Epoch 7/135\n",
            "130/130 [==============================] - 9s 72ms/step - loss: 1.5770 - accuracy: 0.2841\n",
            "Epoch 8/135\n",
            "130/130 [==============================] - 9s 72ms/step - loss: 1.5733 - accuracy: 0.3011\n",
            "Epoch 9/135\n",
            "130/130 [==============================] - 9s 72ms/step - loss: 1.5682 - accuracy: 0.2840\n",
            "Epoch 10/135\n",
            "130/130 [==============================] - 9s 71ms/step - loss: 1.5619 - accuracy: 0.2749\n",
            "Epoch 11/135\n",
            "130/130 [==============================] - 9s 72ms/step - loss: 1.5462 - accuracy: 0.2917\n",
            "Epoch 12/135\n",
            "130/130 [==============================] - 9s 71ms/step - loss: 1.5617 - accuracy: 0.3130\n",
            "Epoch 13/135\n",
            "130/130 [==============================] - 9s 72ms/step - loss: 1.5539 - accuracy: 0.2974\n",
            "Epoch 14/135\n",
            "130/130 [==============================] - 9s 71ms/step - loss: 1.5462 - accuracy: 0.2844\n",
            "Epoch 15/135\n",
            "130/130 [==============================] - 9s 71ms/step - loss: 1.5380 - accuracy: 0.3099\n",
            "Epoch 16/135\n",
            "130/130 [==============================] - 9s 72ms/step - loss: 1.5420 - accuracy: 0.3117\n",
            "Epoch 17/135\n",
            "130/130 [==============================] - 9s 72ms/step - loss: 1.5462 - accuracy: 0.2993\n",
            "Epoch 18/135\n",
            "130/130 [==============================] - 9s 72ms/step - loss: 1.5520 - accuracy: 0.2847\n",
            "Epoch 19/135\n",
            "130/130 [==============================] - 9s 72ms/step - loss: 1.5339 - accuracy: 0.2946\n",
            "Epoch 20/135\n",
            "130/130 [==============================] - 9s 72ms/step - loss: 1.5389 - accuracy: 0.3092\n",
            "Epoch 21/135\n",
            "130/130 [==============================] - 9s 71ms/step - loss: 1.5453 - accuracy: 0.3018\n",
            "Epoch 22/135\n",
            "130/130 [==============================] - 9s 71ms/step - loss: 1.5391 - accuracy: 0.2986\n",
            "Epoch 23/135\n",
            "130/130 [==============================] - 9s 71ms/step - loss: 1.5494 - accuracy: 0.2916\n",
            "Epoch 24/135\n",
            "130/130 [==============================] - 9s 71ms/step - loss: 1.5423 - accuracy: 0.3208\n",
            "Epoch 25/135\n",
            "130/130 [==============================] - 9s 72ms/step - loss: 1.5401 - accuracy: 0.3104\n",
            "Epoch 26/135\n",
            "130/130 [==============================] - 9s 71ms/step - loss: 1.5488 - accuracy: 0.2982\n",
            "Epoch 27/135\n",
            "130/130 [==============================] - 9s 71ms/step - loss: 1.5281 - accuracy: 0.3174\n",
            "Epoch 28/135\n",
            "130/130 [==============================] - 9s 71ms/step - loss: 1.5352 - accuracy: 0.3025\n",
            "Epoch 29/135\n",
            "130/130 [==============================] - 9s 71ms/step - loss: 1.5392 - accuracy: 0.3093\n",
            "Epoch 30/135\n",
            "130/130 [==============================] - 9s 72ms/step - loss: 1.5507 - accuracy: 0.3084\n",
            "Epoch 31/135\n",
            "130/130 [==============================] - 9s 72ms/step - loss: 1.5214 - accuracy: 0.3087\n",
            "Epoch 32/135\n",
            "130/130 [==============================] - 9s 72ms/step - loss: 1.5349 - accuracy: 0.3128\n",
            "Epoch 33/135\n",
            "130/130 [==============================] - 9s 72ms/step - loss: 1.5312 - accuracy: 0.3180\n",
            "Epoch 34/135\n",
            "130/130 [==============================] - 9s 71ms/step - loss: 1.5307 - accuracy: 0.3200\n",
            "Epoch 35/135\n",
            "130/130 [==============================] - 9s 72ms/step - loss: 1.5444 - accuracy: 0.3232\n",
            "Epoch 36/135\n",
            "130/130 [==============================] - 9s 72ms/step - loss: 1.5206 - accuracy: 0.3274\n",
            "Epoch 37/135\n",
            "130/130 [==============================] - 9s 72ms/step - loss: 1.5332 - accuracy: 0.3050\n",
            "Epoch 38/135\n",
            "130/130 [==============================] - 9s 71ms/step - loss: 1.5267 - accuracy: 0.3228\n",
            "Epoch 39/135\n",
            "130/130 [==============================] - 9s 72ms/step - loss: 1.5281 - accuracy: 0.3263\n",
            "Epoch 40/135\n",
            "130/130 [==============================] - 9s 71ms/step - loss: 1.5410 - accuracy: 0.3141\n",
            "Epoch 41/135\n",
            "130/130 [==============================] - 9s 71ms/step - loss: 1.5198 - accuracy: 0.3294\n",
            "Epoch 42/135\n",
            "130/130 [==============================] - 9s 72ms/step - loss: 1.5369 - accuracy: 0.3325\n",
            "Epoch 43/135\n",
            "130/130 [==============================] - 9s 71ms/step - loss: 1.5081 - accuracy: 0.3363\n",
            "Epoch 44/135\n",
            "130/130 [==============================] - 9s 72ms/step - loss: 1.5059 - accuracy: 0.3528\n",
            "Epoch 45/135\n",
            "130/130 [==============================] - 9s 72ms/step - loss: 1.5061 - accuracy: 0.3479\n",
            "Epoch 46/135\n",
            "130/130 [==============================] - 9s 72ms/step - loss: 1.5174 - accuracy: 0.3352\n",
            "Epoch 47/135\n",
            "130/130 [==============================] - 9s 72ms/step - loss: 1.5041 - accuracy: 0.3434\n",
            "Epoch 48/135\n",
            "130/130 [==============================] - 9s 72ms/step - loss: 1.4934 - accuracy: 0.3641\n",
            "Epoch 49/135\n",
            "130/130 [==============================] - 9s 72ms/step - loss: 1.5031 - accuracy: 0.3562\n",
            "Epoch 50/135\n",
            "130/130 [==============================] - 9s 72ms/step - loss: 1.4863 - accuracy: 0.3642\n",
            "Epoch 51/135\n",
            "130/130 [==============================] - 9s 72ms/step - loss: 1.4834 - accuracy: 0.3673\n",
            "Epoch 52/135\n",
            "130/130 [==============================] - 9s 72ms/step - loss: 1.4833 - accuracy: 0.3866\n",
            "Epoch 53/135\n",
            "130/130 [==============================] - 9s 72ms/step - loss: 1.4947 - accuracy: 0.3627\n",
            "Epoch 54/135\n",
            "130/130 [==============================] - 9s 72ms/step - loss: 1.5080 - accuracy: 0.3445\n",
            "Epoch 55/135\n",
            "130/130 [==============================] - 9s 72ms/step - loss: 1.4849 - accuracy: 0.3757\n",
            "Epoch 56/135\n",
            "130/130 [==============================] - 9s 72ms/step - loss: 1.4702 - accuracy: 0.3691\n",
            "Epoch 57/135\n",
            "130/130 [==============================] - 9s 72ms/step - loss: 1.4780 - accuracy: 0.3882\n",
            "Epoch 58/135\n",
            "130/130 [==============================] - 9s 72ms/step - loss: 1.4920 - accuracy: 0.3615\n",
            "Epoch 59/135\n",
            "130/130 [==============================] - 9s 72ms/step - loss: 1.4986 - accuracy: 0.3560\n",
            "Epoch 60/135\n",
            "130/130 [==============================] - 9s 72ms/step - loss: 1.4787 - accuracy: 0.3657\n",
            "Epoch 61/135\n",
            "130/130 [==============================] - 9s 72ms/step - loss: 1.4940 - accuracy: 0.3687\n",
            "Epoch 62/135\n",
            "130/130 [==============================] - 9s 72ms/step - loss: 1.4809 - accuracy: 0.3726\n",
            "Epoch 63/135\n",
            "130/130 [==============================] - 9s 72ms/step - loss: 1.4940 - accuracy: 0.3872\n",
            "Epoch 64/135\n",
            "130/130 [==============================] - 9s 72ms/step - loss: 1.4770 - accuracy: 0.3827\n",
            "Epoch 65/135\n",
            "130/130 [==============================] - 9s 72ms/step - loss: 1.4833 - accuracy: 0.3693\n",
            "Epoch 66/135\n",
            "130/130 [==============================] - 9s 72ms/step - loss: 1.4800 - accuracy: 0.3676\n",
            "Epoch 67/135\n",
            "130/130 [==============================] - 9s 72ms/step - loss: 1.4677 - accuracy: 0.3744\n",
            "Epoch 68/135\n",
            "130/130 [==============================] - 9s 72ms/step - loss: 1.4526 - accuracy: 0.3807\n",
            "Epoch 69/135\n",
            "130/130 [==============================] - 9s 72ms/step - loss: 1.4807 - accuracy: 0.3831\n",
            "Epoch 70/135\n",
            "130/130 [==============================] - 9s 72ms/step - loss: 1.4994 - accuracy: 0.3626\n",
            "Epoch 71/135\n",
            "130/130 [==============================] - 9s 72ms/step - loss: 1.5007 - accuracy: 0.3697\n",
            "Epoch 72/135\n",
            "130/130 [==============================] - 9s 72ms/step - loss: 1.4901 - accuracy: 0.3684\n",
            "Epoch 73/135\n",
            "130/130 [==============================] - 9s 71ms/step - loss: 1.4599 - accuracy: 0.3851\n",
            "Epoch 74/135\n",
            "130/130 [==============================] - 9s 72ms/step - loss: 1.4647 - accuracy: 0.3746\n",
            "Epoch 75/135\n",
            "130/130 [==============================] - 9s 72ms/step - loss: 1.4481 - accuracy: 0.4171\n",
            "Epoch 76/135\n",
            "130/130 [==============================] - 9s 71ms/step - loss: 1.4629 - accuracy: 0.3829\n",
            "Epoch 77/135\n",
            "130/130 [==============================] - 9s 72ms/step - loss: 1.4642 - accuracy: 0.3716\n",
            "Epoch 78/135\n",
            "130/130 [==============================] - 9s 72ms/step - loss: 1.4591 - accuracy: 0.3944\n",
            "Epoch 79/135\n",
            "130/130 [==============================] - 9s 71ms/step - loss: 1.4483 - accuracy: 0.3905\n",
            "Epoch 80/135\n",
            "130/130 [==============================] - 9s 72ms/step - loss: 1.4589 - accuracy: 0.3978\n",
            "Epoch 81/135\n",
            "130/130 [==============================] - 9s 72ms/step - loss: 1.4730 - accuracy: 0.3801\n",
            "Epoch 82/135\n",
            "130/130 [==============================] - 9s 72ms/step - loss: 1.4612 - accuracy: 0.3842\n",
            "Epoch 83/135\n",
            "130/130 [==============================] - 9s 72ms/step - loss: 1.4487 - accuracy: 0.3823\n",
            "Epoch 84/135\n",
            "130/130 [==============================] - 9s 72ms/step - loss: 1.4596 - accuracy: 0.3905\n",
            "Epoch 85/135\n",
            "130/130 [==============================] - 9s 73ms/step - loss: 1.4524 - accuracy: 0.3960\n",
            "Epoch 86/135\n",
            "130/130 [==============================] - 9s 72ms/step - loss: 1.4483 - accuracy: 0.4087\n",
            "Epoch 87/135\n",
            "130/130 [==============================] - 9s 72ms/step - loss: 1.4497 - accuracy: 0.4002\n",
            "Epoch 88/135\n",
            "130/130 [==============================] - 9s 73ms/step - loss: 1.4693 - accuracy: 0.3916\n",
            "Epoch 89/135\n",
            "130/130 [==============================] - 9s 72ms/step - loss: 1.4450 - accuracy: 0.3958\n",
            "Epoch 90/135\n",
            "130/130 [==============================] - 9s 72ms/step - loss: 1.4712 - accuracy: 0.3932\n",
            "Epoch 91/135\n",
            "130/130 [==============================] - 9s 72ms/step - loss: 1.4224 - accuracy: 0.4270\n",
            "Epoch 92/135\n",
            "130/130 [==============================] - 9s 72ms/step - loss: 1.4397 - accuracy: 0.4330\n",
            "Epoch 93/135\n",
            "130/130 [==============================] - 9s 71ms/step - loss: 1.4793 - accuracy: 0.3973\n",
            "Epoch 94/135\n",
            "130/130 [==============================] - 9s 72ms/step - loss: 1.4825 - accuracy: 0.3861\n",
            "Epoch 95/135\n",
            "130/130 [==============================] - 9s 72ms/step - loss: 1.4442 - accuracy: 0.3982\n",
            "Epoch 96/135\n",
            "130/130 [==============================] - 9s 72ms/step - loss: 1.4486 - accuracy: 0.4143\n",
            "Epoch 97/135\n",
            "130/130 [==============================] - 9s 72ms/step - loss: 1.4363 - accuracy: 0.4286\n",
            "Epoch 98/135\n",
            "130/130 [==============================] - 9s 73ms/step - loss: 1.4797 - accuracy: 0.3783\n",
            "Epoch 99/135\n",
            "130/130 [==============================] - 9s 73ms/step - loss: 1.4722 - accuracy: 0.4092\n",
            "Epoch 100/135\n",
            "130/130 [==============================] - 9s 72ms/step - loss: 1.4283 - accuracy: 0.4158\n",
            "Epoch 101/135\n",
            "130/130 [==============================] - 9s 72ms/step - loss: 1.4802 - accuracy: 0.3832\n",
            "Epoch 102/135\n",
            "130/130 [==============================] - 9s 72ms/step - loss: 1.4334 - accuracy: 0.4148\n",
            "Epoch 103/135\n",
            "130/130 [==============================] - 9s 72ms/step - loss: 1.4416 - accuracy: 0.4120\n",
            "Epoch 104/135\n",
            "130/130 [==============================] - 9s 72ms/step - loss: 1.4706 - accuracy: 0.3887\n",
            "Epoch 105/135\n",
            "130/130 [==============================] - 9s 72ms/step - loss: 1.4289 - accuracy: 0.4220\n",
            "Epoch 106/135\n",
            "130/130 [==============================] - 9s 72ms/step - loss: 1.4533 - accuracy: 0.4130\n",
            "Epoch 107/135\n",
            "130/130 [==============================] - 9s 72ms/step - loss: 1.4472 - accuracy: 0.4196\n",
            "Epoch 108/135\n",
            "130/130 [==============================] - 9s 72ms/step - loss: 1.4719 - accuracy: 0.3881\n",
            "Epoch 109/135\n",
            "130/130 [==============================] - 9s 72ms/step - loss: 1.4588 - accuracy: 0.3963\n",
            "Epoch 110/135\n",
            "130/130 [==============================] - 9s 73ms/step - loss: 1.4785 - accuracy: 0.3974\n",
            "Epoch 111/135\n",
            "130/130 [==============================] - 9s 72ms/step - loss: 1.4322 - accuracy: 0.4334\n",
            "Epoch 112/135\n",
            "130/130 [==============================] - 9s 72ms/step - loss: 1.4432 - accuracy: 0.4237\n",
            "Epoch 113/135\n",
            "130/130 [==============================] - 9s 72ms/step - loss: 1.4790 - accuracy: 0.3989\n",
            "Epoch 114/135\n",
            "130/130 [==============================] - 9s 72ms/step - loss: 1.4465 - accuracy: 0.4217\n",
            "Epoch 115/135\n",
            "130/130 [==============================] - 9s 72ms/step - loss: 1.4501 - accuracy: 0.4317\n",
            "Epoch 116/135\n",
            "130/130 [==============================] - 9s 72ms/step - loss: 1.4468 - accuracy: 0.4134\n",
            "Epoch 117/135\n",
            "130/130 [==============================] - 9s 73ms/step - loss: 1.4413 - accuracy: 0.4327\n",
            "Epoch 118/135\n",
            "130/130 [==============================] - 9s 72ms/step - loss: 1.4276 - accuracy: 0.4409\n",
            "Epoch 119/135\n",
            "130/130 [==============================] - 9s 72ms/step - loss: 1.4544 - accuracy: 0.4180\n",
            "Epoch 120/135\n",
            "130/130 [==============================] - 9s 72ms/step - loss: 1.4333 - accuracy: 0.4334\n",
            "Epoch 121/135\n",
            "130/130 [==============================] - 9s 72ms/step - loss: 1.4361 - accuracy: 0.4400\n",
            "Epoch 122/135\n",
            "130/130 [==============================] - 9s 72ms/step - loss: 1.4409 - accuracy: 0.4436\n",
            "Epoch 123/135\n",
            "130/130 [==============================] - 9s 72ms/step - loss: 1.4362 - accuracy: 0.4297\n",
            "Epoch 124/135\n",
            "130/130 [==============================] - 9s 73ms/step - loss: 1.4497 - accuracy: 0.4428\n",
            "Epoch 125/135\n",
            "130/130 [==============================] - 9s 72ms/step - loss: 1.4549 - accuracy: 0.4085\n",
            "Epoch 126/135\n",
            "130/130 [==============================] - 9s 73ms/step - loss: 1.4228 - accuracy: 0.4520\n",
            "Epoch 127/135\n",
            "130/130 [==============================] - 9s 72ms/step - loss: 1.4342 - accuracy: 0.4339\n",
            "Epoch 128/135\n",
            "130/130 [==============================] - 9s 72ms/step - loss: 1.4406 - accuracy: 0.4223\n",
            "Epoch 129/135\n",
            "130/130 [==============================] - 9s 73ms/step - loss: 1.4333 - accuracy: 0.4387\n",
            "Epoch 130/135\n",
            "130/130 [==============================] - 9s 73ms/step - loss: 1.4343 - accuracy: 0.4268\n",
            "Epoch 131/135\n",
            "130/130 [==============================] - 9s 72ms/step - loss: 1.4624 - accuracy: 0.4174\n",
            "Epoch 132/135\n",
            "130/130 [==============================] - 9s 72ms/step - loss: 1.4502 - accuracy: 0.4333\n",
            "Epoch 133/135\n",
            "130/130 [==============================] - 9s 72ms/step - loss: 1.4434 - accuracy: 0.4289\n",
            "Epoch 134/135\n",
            "130/130 [==============================] - 9s 73ms/step - loss: 1.4160 - accuracy: 0.4345\n",
            "Epoch 135/135\n",
            "130/130 [==============================] - 9s 72ms/step - loss: 1.4387 - accuracy: 0.4302\n"
          ],
          "name": "stdout"
        }
      ]
    },
    {
      "cell_type": "code",
      "metadata": {
        "id": "WEc4HZWz5wX_",
        "colab": {
          "base_uri": "https://localhost:8080/"
        },
        "outputId": "1b58d846-6bc4-4793-87d5-a98b7361e212"
      },
      "source": [
        "history_dict = history.history\n",
        "history_dict.keys()\n",
        "[u'accuracy', u'loss']"
      ],
      "execution_count": 50,
      "outputs": [
        {
          "output_type": "execute_result",
          "data": {
            "text/plain": [
              "['accuracy', 'loss']"
            ]
          },
          "metadata": {
            "tags": []
          },
          "execution_count": 50
        }
      ]
    },
    {
      "cell_type": "code",
      "metadata": {
        "colab": {
          "base_uri": "https://localhost:8080/",
          "height": 295
        },
        "id": "uIRkeh8FzaEw",
        "outputId": "0e48269c-0f90-4bad-8a77-fc7208299672"
      },
      "source": [
        "history_dict = history.history\n",
        "loss_values = history_dict['loss']\n",
        "val_accuracy = history_dict['accuracy']\n",
        "epochs = range(1, len(history_dict['accuracy']) + 1)\n",
        "plt.plot(epochs, loss_values, 'r', label='loss')\n",
        "plt.plot(epochs, val_accuracy, 'b', label='accuracy')\n",
        "plt.title('loss and accuracy')\n",
        "plt.xlabel('Epochs')\n",
        "plt.ylabel('Loss')\n",
        "plt.legend()\n",
        "plt.grid()\n",
        "plt.show()"
      ],
      "execution_count": 51,
      "outputs": [
        {
          "output_type": "display_data",
          "data": {
            "image/png": "[encoded data removed]",
            "text/plain": [
              "<Figure size 432x288 with 1 Axes>"
            ]
          },
          "metadata": {
            "tags": [],
            "needs_background": "light"
          }
        }
      ]
    },
    {
      "cell_type": "code",
      "metadata": {
        "colab": {
          "base_uri": "https://localhost:8080/"
        },
        "id": "gVBxoqrOzaX5",
        "outputId": "35514c4f-9633-416f-dd77-fbfc826a23c9"
      },
      "source": [
        "network.evaluate(x_test,y_test)"
      ],
      "execution_count": 52,
      "outputs": [
        {
          "output_type": "stream",
          "text": [
            "55/55 [==============================] - 1s 19ms/step - loss: 1.7801 - accuracy: 0.3039\n"
          ],
          "name": "stdout"
        },
        {
          "output_type": "execute_result",
          "data": {
            "text/plain": [
              "[1.7800695896148682, 0.3038705885410309]"
            ]
          },
          "metadata": {
            "tags": []
          },
          "execution_count": 52
        }
      ]
    },
    {
      "cell_type": "code",
      "metadata": {
        "colab": {
          "base_uri": "https://localhost:8080/"
        },
        "id": "ujxjFJ32zaty",
        "outputId": "69140cd2-5769-4bb5-d1c3-88351b06e394"
      },
      "source": [
        "pred = network.predict_classes(x_test[:10])\n",
        "for i in range(len(pred)):\n",
        "    print(pred[i],y_test[i])"
      ],
      "execution_count": 53,
      "outputs": [
        {
          "output_type": "stream",
          "text": [
            "1 [0. 1. 0. 0. 0.]\n",
            "4 [0. 0. 0. 1. 0.]\n",
            "4 [0. 0. 0. 1. 0.]\n",
            "1 [1. 0. 0. 0. 0.]\n",
            "2 [0. 1. 0. 0. 0.]\n",
            "1 [0. 1. 0. 0. 0.]\n",
            "0 [1. 0. 0. 0. 0.]\n",
            "3 [0. 0. 1. 0. 0.]\n",
            "0 [0. 0. 1. 0. 0.]\n",
            "4 [0. 0. 1. 0. 0.]\n"
          ],
          "name": "stdout"
        },
        {
          "output_type": "stream",
          "text": [
            "/usr/local/lib/python3.7/dist-packages/tensorflow/python/keras/engine/sequential.py:450: UserWarning: `model.predict_classes()` is deprecated and will be removed after 2021-01-01. Please use instead:* `np.argmax(model.predict(x), axis=-1)`,   if your model does multi-class classification   (e.g. if it uses a `softmax` last-layer activation).* `(model.predict(x) > 0.5).astype(\"int32\")`,   if your model does binary classification   (e.g. if it uses a `sigmoid` last-layer activation).\n",
            "  warnings.warn('`model.predict_classes()` is deprecated and '\n"
          ],
          "name": "stderr"
        }
      ]
    },
    {
      "cell_type": "code",
      "metadata": {
        "colab": {
          "base_uri": "https://localhost:8080/",
          "height": 334
        },
        "id": "B8_ye3O7zgG6",
        "outputId": "eb265e5d-8df4-4262-bb87-29b3bd0fa174"
      },
      "source": [
        "plt.figure(figsize=(20,5))\n",
        "plt.subplot(1, 2, 1 )\n",
        "plt.hist(y_test[:10])\n",
        "plt.xlabel('original target val')\n",
        "plt.ylabel('count')\n",
        "plt.subplot(1, 2, 2)\n",
        "plt.hist(pred)\n",
        "plt.xlabel('aggregated target val')\n",
        "plt.ylabel('count')\n",
        "plt.show()"
      ],
      "execution_count": 54,
      "outputs": [
        {
          "output_type": "display_data",
          "data": {
            "image/png": "[encoded data removed]",
            "text/plain": [
              "<Figure size 1440x360 with 2 Axes>"
            ]
          },
          "metadata": {
            "tags": [],
            "needs_background": "light"
          }
        }
      ]
    }
  ]
}