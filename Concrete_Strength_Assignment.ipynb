{
  "nbformat": 4,
  "nbformat_minor": 0,
  "metadata": {
    "kernelspec": {
      "display_name": "Python 3",
      "language": "python",
      "name": "python3"
    },
    "language_info": {
      "codemirror_mode": {
        "name": "ipython",
        "version": 3
      },
      "file_extension": ".py",
      "mimetype": "text/x-python",
      "name": "python",
      "nbconvert_exporter": "python",
      "pygments_lexer": "ipython3",
      "version": "3.7.3"
    },
    "colab": {
      "name": "Concrete_Strength_Assignment.ipynb",
      "provenance": [],
      "collapsed_sections": [],
      "include_colab_link": true
    }
  },
  "cells": [
    {
      "cell_type": "markdown",
      "metadata": {
        "id": "view-in-github",
        "colab_type": "text"
      },
      "source": [
        "<a href=\"https://colab.research.google.com/github/hammadmustafa-alt/Deep-Learning/blob/main/Concrete_Strength_Assignment.ipynb\" target=\"_parent\"><img src=\"https://colab.research.google.com/assets/colab-badge.svg\" alt=\"Open In Colab\"/></a>"
      ]
    },
    {
      "cell_type": "markdown",
      "metadata": {
        "id": "s-P1RRAyT8gZ"
      },
      "source": [
        "# Assignment: Compresive Strength Concrete Problem\n",
        "\n",
        "\n",
        "### Abstract: \n",
        "\n",
        "Concrete is the most important material in civil engineering. The concrete compressive strength (concrete strength to bear the load) is a highly nonlinear function of age and ingredients.  <br><br>\n",
        "\n",
        "<table border=\"1\"  cellpadding=\"6\" bordercolor=\"red\">\n",
        "\t<tbody>\n",
        "        <tr>\n",
        "\t\t<td bgcolor=\"#DDEEFF\"><p class=\"normal\"><b>Data Set Characteristics:&nbsp;&nbsp;</b></p></td>\n",
        "\t\t<td><p class=\"normal\">Multivariate</p></td>\n",
        "\t\t<td bgcolor=\"#DDEEFF\"><p class=\"normal\"><b>Number of Instances:</b></p></td>\n",
        "\t\t<td><p class=\"normal\">1030</p></td>\n",
        "\t\t<td bgcolor=\"#DDEEFF\"><p class=\"normal\"><b>Area:</b></p></td>\n",
        "\t\t<td><p class=\"normal\">Physical</p></td>\n",
        "        </tr>\n",
        "     </tbody>\n",
        "    </table>\n",
        "<table border=\"1\" cellpadding=\"6\">\n",
        "    <tbody>\n",
        "        <tr>\n",
        "            <td bgcolor=\"#DDEEFF\"><p class=\"normal\"><b>Attribute Characteristics:</b></p></td>\n",
        "            <td><p class=\"normal\">Real</p></td>\n",
        "            <td bgcolor=\"#DDEEFF\"><p class=\"normal\"><b>Number of Attributes:</b></p></td>\n",
        "            <td><p class=\"normal\">9</p></td>\n",
        "            <td bgcolor=\"#DDEEFF\"><p class=\"normal\"><b>Date Donated</b></p></td>\n",
        "            <td><p class=\"normal\">2007-08-03</p></td>\n",
        "        </tr>\n",
        "     </tbody>\n",
        "    </table>\n",
        "<table border=\"1\" cellpadding=\"6\">\t\n",
        "    <tbody>\n",
        "    <tr>\n",
        "\t\t<td bgcolor=\"#DDEEFF\"><p class=\"normal\"><b>Associated Tasks:</b></p></td>\n",
        "\t\t<td><p class=\"normal\">Regression</p></td>\n",
        "\t\t<td bgcolor=\"#DDEEFF\"><p class=\"normal\"><b>Missing Values?</b></p></td>\n",
        "\t\t<td><p class=\"normal\">N/A</p></td>\n",
        "\t\t<td bgcolor=\"#DDEEFF\"><p class=\"normal\"><b>Number of Web Hits:</b></p></td>\n",
        "\t\t<td><p class=\"normal\">231464</p></td>\n",
        "\t</tr>\n",
        "    </tbody>\n",
        "    </table>"
      ]
    },
    {
      "cell_type": "markdown",
      "metadata": {
        "id": "b_9qYUmbT8gr"
      },
      "source": [
        "###  Description:\n",
        "| Features Name | Data Type | Measurement | Description |\n",
        "| -- | -- | -- | -- |\n",
        "Cement (component 1) | quantitative | kg in a m3 mixture | Input Variable\n",
        "Blast Furnace Slag (component 2) | quantitative | kg in a m3 mixture | Input Variable\n",
        "Fly Ash (component 3) | quantitative | kg in a m3 mixture | Input Variable\n",
        "Water (component 4) | quantitative | kg in a m3 mixture | Input Variable\n",
        "Superplasticizer (component 5) | quantitative | kg in a m3 mixture | Input Variable\n",
        "Coarse Aggregate (component 6) | quantitative | kg in a m3 mixture | Input Variable\n",
        "Fine Aggregate (component 7) | quantitative | kg in a m3 mixture | Input Variable\n",
        "Age | quantitative | Day (1~365) | Input Variable\n",
        "Concrete compressive strength | quantitative | MPa | Output Variable\n",
        "\n",
        "### WORKFLOW :\n",
        "- Load Data\n",
        "- Check Missing Values ( If Exist ; Fill each record with mean of its feature )\n",
        "- Standardized the Input Variables. **Hint**: Centeralized the data\n",
        "- Split into 50% Training(Samples,Labels) , 30% Test(Samples,Labels) and 20% Validation Data(Samples,Labels).\n",
        "- Model : input Layer (No. of features ), 3 hidden layers including 10,8,6 unit & Output Layer with activation function relu/tanh (check by experiment).\n",
        "- Compilation Step (Note : Its a Regression problem , select loss , metrics according to it)\n",
        "- Train the Model with Epochs (100) and validate it\n",
        "- If the model gets overfit tune your model by changing the units , No. of layers , activation function , epochs , add dropout layer or add Regularizer according to the need .\n",
        "- Evaluation Step\n",
        "- Prediction\n"
      ]
    },
    {
      "cell_type": "code",
      "metadata": {
        "colab": {
          "base_uri": "https://localhost:8080/"
        },
        "id": "9ROTlpqdT8gv",
        "outputId": "05fef60c-e5b6-4cca-c70f-e32da2f88ad2"
      },
      "source": [
        "from google.colab import drive\n",
        "drive.mount('/content/drive')"
      ],
      "execution_count": null,
      "outputs": [
        {
          "output_type": "stream",
          "text": [
            "Drive already mounted at /content/drive; to attempt to forcibly remount, call drive.mount(\"/content/drive\", force_remount=True).\n"
          ],
          "name": "stdout"
        }
      ]
    },
    {
      "cell_type": "markdown",
      "metadata": {
        "id": "aGSU7FhkT8gu"
      },
      "source": [
        "# Load Data:\n",
        "[Click Here to Download DataSet](https://github.com/ramsha275/ML_Datasets/blob/main/compresive_strength_concrete.csv)"
      ]
    },
    {
      "cell_type": "code",
      "metadata": {
        "id": "1k7CMSotfwyb"
      },
      "source": [
        "import pandas as pd\n",
        "import numpy as np\n",
        "import matplotlib.pyplot as plt\n",
        "import tensorflow as tf\n",
        "from tensorflow.keras import layers as L\n",
        "from tensorflow.keras import models as M\n",
        "\n",
        "data = pd.read_csv(\"/content/drive/MyDrive/Colab Notebooks/compresive_strength_concrete.csv\")"
      ],
      "execution_count": null,
      "outputs": []
    },
    {
      "cell_type": "code",
      "metadata": {
        "colab": {
          "base_uri": "https://localhost:8080/",
          "height": 241
        },
        "id": "9wow1kYAfw6Z",
        "outputId": "9c543c5e-875e-44a2-afbf-6f7076c46405"
      },
      "source": [
        "data.head()"
      ],
      "execution_count": null,
      "outputs": [
        {
          "output_type": "execute_result",
          "data": {
            "text/html": [
              "<div>\n",
              "<style scoped>\n",
              "    .dataframe tbody tr th:only-of-type {\n",
              "        vertical-align: middle;\n",
              "    }\n",
              "\n",
              "    .dataframe tbody tr th {\n",
              "        vertical-align: top;\n",
              "    }\n",
              "\n",
              "    .dataframe thead th {\n",
              "        text-align: right;\n",
              "    }\n",
              "</style>\n",
              "<table border=\"1\" class=\"dataframe\">\n",
              "  <thead>\n",
              "    <tr style=\"text-align: right;\">\n",
              "      <th></th>\n",
              "      <th>Cement (component 1)(kg in a m^3 mixture)</th>\n",
              "      <th>Blast Furnace Slag (component 2)(kg in a m^3 mixture)</th>\n",
              "      <th>Fly Ash (component 3)(kg in a m^3 mixture)</th>\n",
              "      <th>Water  (component 4)(kg in a m^3 mixture)</th>\n",
              "      <th>Superplasticizer (component 5)(kg in a m^3 mixture)</th>\n",
              "      <th>Coarse Aggregate  (component 6)(kg in a m^3 mixture)</th>\n",
              "      <th>Fine Aggregate (component 7)(kg in a m^3 mixture)</th>\n",
              "      <th>Age (day)</th>\n",
              "      <th>Concrete compressive strength(MPa, megapascals)</th>\n",
              "    </tr>\n",
              "  </thead>\n",
              "  <tbody>\n",
              "    <tr>\n",
              "      <th>0</th>\n",
              "      <td>540.0</td>\n",
              "      <td>0.0</td>\n",
              "      <td>0.0</td>\n",
              "      <td>162.0</td>\n",
              "      <td>2.5</td>\n",
              "      <td>1040.0</td>\n",
              "      <td>676.0</td>\n",
              "      <td>28</td>\n",
              "      <td>79.99</td>\n",
              "    </tr>\n",
              "    <tr>\n",
              "      <th>1</th>\n",
              "      <td>540.0</td>\n",
              "      <td>0.0</td>\n",
              "      <td>0.0</td>\n",
              "      <td>162.0</td>\n",
              "      <td>2.5</td>\n",
              "      <td>1055.0</td>\n",
              "      <td>676.0</td>\n",
              "      <td>28</td>\n",
              "      <td>61.89</td>\n",
              "    </tr>\n",
              "    <tr>\n",
              "      <th>2</th>\n",
              "      <td>332.5</td>\n",
              "      <td>142.5</td>\n",
              "      <td>0.0</td>\n",
              "      <td>228.0</td>\n",
              "      <td>0.0</td>\n",
              "      <td>932.0</td>\n",
              "      <td>594.0</td>\n",
              "      <td>270</td>\n",
              "      <td>40.27</td>\n",
              "    </tr>\n",
              "    <tr>\n",
              "      <th>3</th>\n",
              "      <td>332.5</td>\n",
              "      <td>142.5</td>\n",
              "      <td>0.0</td>\n",
              "      <td>228.0</td>\n",
              "      <td>0.0</td>\n",
              "      <td>932.0</td>\n",
              "      <td>594.0</td>\n",
              "      <td>365</td>\n",
              "      <td>41.05</td>\n",
              "    </tr>\n",
              "    <tr>\n",
              "      <th>4</th>\n",
              "      <td>198.6</td>\n",
              "      <td>132.4</td>\n",
              "      <td>0.0</td>\n",
              "      <td>192.0</td>\n",
              "      <td>0.0</td>\n",
              "      <td>978.4</td>\n",
              "      <td>825.5</td>\n",
              "      <td>360</td>\n",
              "      <td>44.30</td>\n",
              "    </tr>\n",
              "  </tbody>\n",
              "</table>\n",
              "</div>"
            ],
            "text/plain": [
              "   Cement (component 1)(kg in a m^3 mixture)  ...  Concrete compressive strength(MPa, megapascals) \n",
              "0                                      540.0  ...                                             79.99\n",
              "1                                      540.0  ...                                             61.89\n",
              "2                                      332.5  ...                                             40.27\n",
              "3                                      332.5  ...                                             41.05\n",
              "4                                      198.6  ...                                             44.30\n",
              "\n",
              "[5 rows x 9 columns]"
            ]
          },
          "metadata": {
            "tags": []
          },
          "execution_count": 73
        }
      ]
    },
    {
      "cell_type": "code",
      "metadata": {
        "colab": {
          "base_uri": "https://localhost:8080/"
        },
        "id": "VHgDFi5-fw25",
        "outputId": "052ecabe-0b2c-4619-bcfe-886118c1c3e2"
      },
      "source": [
        "data.shape"
      ],
      "execution_count": null,
      "outputs": [
        {
          "output_type": "execute_result",
          "data": {
            "text/plain": [
              "(1030, 9)"
            ]
          },
          "metadata": {
            "tags": []
          },
          "execution_count": 74
        }
      ]
    },
    {
      "cell_type": "code",
      "metadata": {
        "colab": {
          "base_uri": "https://localhost:8080/"
        },
        "id": "s1Bb-yc4fw-P",
        "outputId": "b90fec13-3f9a-4d96-877e-cb692a05c59b"
      },
      "source": [
        "data.columns"
      ],
      "execution_count": null,
      "outputs": [
        {
          "output_type": "execute_result",
          "data": {
            "text/plain": [
              "Index(['Cement (component 1)(kg in a m^3 mixture)',\n",
              "       'Blast Furnace Slag (component 2)(kg in a m^3 mixture)',\n",
              "       'Fly Ash (component 3)(kg in a m^3 mixture)',\n",
              "       'Water  (component 4)(kg in a m^3 mixture)',\n",
              "       'Superplasticizer (component 5)(kg in a m^3 mixture)',\n",
              "       'Coarse Aggregate  (component 6)(kg in a m^3 mixture)',\n",
              "       'Fine Aggregate (component 7)(kg in a m^3 mixture)', 'Age (day)',\n",
              "       'Concrete compressive strength(MPa, megapascals) '],\n",
              "      dtype='object')"
            ]
          },
          "metadata": {
            "tags": []
          },
          "execution_count": 75
        }
      ]
    },
    {
      "cell_type": "code",
      "metadata": {
        "id": "eSFb4DA9azyB"
      },
      "source": [
        "data = data.rename(columns= {'Cement (component 1)(kg in a m^3 mixture)' : 'cement',\n",
        "       'Blast Furnace Slag (component 2)(kg in a m^3 mixture)':'slag',\n",
        "       'Fly Ash (component 3)(kg in a m^3 mixture)': 'ash',\n",
        "       'Water  (component 4)(kg in a m^3 mixture)': 'water',\n",
        "       'Superplasticizer (component 5)(kg in a m^3 mixture)': 'superplastic',\n",
        "       'Coarse Aggregate  (component 6)(kg in a m^3 mixture)': 'coarseagg',\n",
        "       'Fine Aggregate (component 7)(kg in a m^3 mixture)': 'fineagg', 'Age (day)': 'age',\n",
        "       'Concrete compressive strength(MPa, megapascals) ': 'strength'})"
      ],
      "execution_count": null,
      "outputs": []
    },
    {
      "cell_type": "code",
      "metadata": {
        "colab": {
          "base_uri": "https://localhost:8080/"
        },
        "id": "CSXmD7n92Y7T",
        "outputId": "d81066c3-8ae2-49f7-b32a-b2c0d4d1f012"
      },
      "source": [
        "data.columns"
      ],
      "execution_count": null,
      "outputs": [
        {
          "output_type": "execute_result",
          "data": {
            "text/plain": [
              "Index(['cement', 'slag', 'ash', 'water', 'superplastic', 'coarseagg',\n",
              "       'fineagg', 'age', 'strength'],\n",
              "      dtype='object')"
            ]
          },
          "metadata": {
            "tags": []
          },
          "execution_count": 77
        }
      ]
    },
    {
      "cell_type": "markdown",
      "metadata": {
        "id": "wG-ZW6nSeYgv"
      },
      "source": [
        "# Check Missing Values ( If Exist ; Fill each record with mean of its feature )"
      ]
    },
    {
      "cell_type": "code",
      "metadata": {
        "colab": {
          "base_uri": "https://localhost:8080/"
        },
        "id": "9w7FIy_cfxCL",
        "outputId": "aa7df304-47c7-4f58-fc88-4ffa18ef353b"
      },
      "source": [
        "data.isnull().sum()"
      ],
      "execution_count": null,
      "outputs": [
        {
          "output_type": "execute_result",
          "data": {
            "text/plain": [
              "cement          0\n",
              "slag            0\n",
              "ash             0\n",
              "water           0\n",
              "superplastic    0\n",
              "coarseagg       0\n",
              "fineagg         0\n",
              "age             0\n",
              "strength        0\n",
              "dtype: int64"
            ]
          },
          "metadata": {
            "tags": []
          },
          "execution_count": 78
        }
      ]
    },
    {
      "cell_type": "code",
      "metadata": {
        "colab": {
          "base_uri": "https://localhost:8080/"
        },
        "id": "PRr9Vu_OfxGa",
        "outputId": "2eaea485-40df-46e8-9118-12492f1ba5ad"
      },
      "source": [
        "np.where(data.applymap(lambda x: x == ''))"
      ],
      "execution_count": null,
      "outputs": [
        {
          "output_type": "execute_result",
          "data": {
            "text/plain": [
              "(array([], dtype=int64), array([], dtype=int64))"
            ]
          },
          "metadata": {
            "tags": []
          },
          "execution_count": 79
        }
      ]
    },
    {
      "cell_type": "code",
      "metadata": {
        "colab": {
          "base_uri": "https://localhost:8080/",
          "height": 300
        },
        "id": "JRNexnFPedkk",
        "outputId": "87880fa7-3aab-4568-b103-2cc0820202b6"
      },
      "source": [
        "data.describe()"
      ],
      "execution_count": null,
      "outputs": [
        {
          "output_type": "execute_result",
          "data": {
            "text/html": [
              "<div>\n",
              "<style scoped>\n",
              "    .dataframe tbody tr th:only-of-type {\n",
              "        vertical-align: middle;\n",
              "    }\n",
              "\n",
              "    .dataframe tbody tr th {\n",
              "        vertical-align: top;\n",
              "    }\n",
              "\n",
              "    .dataframe thead th {\n",
              "        text-align: right;\n",
              "    }\n",
              "</style>\n",
              "<table border=\"1\" class=\"dataframe\">\n",
              "  <thead>\n",
              "    <tr style=\"text-align: right;\">\n",
              "      <th></th>\n",
              "      <th>cement</th>\n",
              "      <th>slag</th>\n",
              "      <th>ash</th>\n",
              "      <th>water</th>\n",
              "      <th>superplastic</th>\n",
              "      <th>coarseagg</th>\n",
              "      <th>fineagg</th>\n",
              "      <th>age</th>\n",
              "      <th>strength</th>\n",
              "    </tr>\n",
              "  </thead>\n",
              "  <tbody>\n",
              "    <tr>\n",
              "      <th>count</th>\n",
              "      <td>1030.000000</td>\n",
              "      <td>1030.000000</td>\n",
              "      <td>1030.000000</td>\n",
              "      <td>1030.000000</td>\n",
              "      <td>1030.000000</td>\n",
              "      <td>1030.000000</td>\n",
              "      <td>1030.000000</td>\n",
              "      <td>1030.000000</td>\n",
              "      <td>1030.000000</td>\n",
              "    </tr>\n",
              "    <tr>\n",
              "      <th>mean</th>\n",
              "      <td>281.167864</td>\n",
              "      <td>73.895825</td>\n",
              "      <td>54.188350</td>\n",
              "      <td>181.567282</td>\n",
              "      <td>6.204660</td>\n",
              "      <td>972.918932</td>\n",
              "      <td>773.580485</td>\n",
              "      <td>45.662136</td>\n",
              "      <td>35.817961</td>\n",
              "    </tr>\n",
              "    <tr>\n",
              "      <th>std</th>\n",
              "      <td>104.506364</td>\n",
              "      <td>86.279342</td>\n",
              "      <td>63.997004</td>\n",
              "      <td>21.354219</td>\n",
              "      <td>5.973841</td>\n",
              "      <td>77.753954</td>\n",
              "      <td>80.175980</td>\n",
              "      <td>63.169912</td>\n",
              "      <td>16.705742</td>\n",
              "    </tr>\n",
              "    <tr>\n",
              "      <th>min</th>\n",
              "      <td>102.000000</td>\n",
              "      <td>0.000000</td>\n",
              "      <td>0.000000</td>\n",
              "      <td>121.800000</td>\n",
              "      <td>0.000000</td>\n",
              "      <td>801.000000</td>\n",
              "      <td>594.000000</td>\n",
              "      <td>1.000000</td>\n",
              "      <td>2.330000</td>\n",
              "    </tr>\n",
              "    <tr>\n",
              "      <th>25%</th>\n",
              "      <td>192.375000</td>\n",
              "      <td>0.000000</td>\n",
              "      <td>0.000000</td>\n",
              "      <td>164.900000</td>\n",
              "      <td>0.000000</td>\n",
              "      <td>932.000000</td>\n",
              "      <td>730.950000</td>\n",
              "      <td>7.000000</td>\n",
              "      <td>23.710000</td>\n",
              "    </tr>\n",
              "    <tr>\n",
              "      <th>50%</th>\n",
              "      <td>272.900000</td>\n",
              "      <td>22.000000</td>\n",
              "      <td>0.000000</td>\n",
              "      <td>185.000000</td>\n",
              "      <td>6.400000</td>\n",
              "      <td>968.000000</td>\n",
              "      <td>779.500000</td>\n",
              "      <td>28.000000</td>\n",
              "      <td>34.445000</td>\n",
              "    </tr>\n",
              "    <tr>\n",
              "      <th>75%</th>\n",
              "      <td>350.000000</td>\n",
              "      <td>142.950000</td>\n",
              "      <td>118.300000</td>\n",
              "      <td>192.000000</td>\n",
              "      <td>10.200000</td>\n",
              "      <td>1029.400000</td>\n",
              "      <td>824.000000</td>\n",
              "      <td>56.000000</td>\n",
              "      <td>46.135000</td>\n",
              "    </tr>\n",
              "    <tr>\n",
              "      <th>max</th>\n",
              "      <td>540.000000</td>\n",
              "      <td>359.400000</td>\n",
              "      <td>200.100000</td>\n",
              "      <td>247.000000</td>\n",
              "      <td>32.200000</td>\n",
              "      <td>1145.000000</td>\n",
              "      <td>992.600000</td>\n",
              "      <td>365.000000</td>\n",
              "      <td>82.600000</td>\n",
              "    </tr>\n",
              "  </tbody>\n",
              "</table>\n",
              "</div>"
            ],
            "text/plain": [
              "            cement         slag  ...          age     strength\n",
              "count  1030.000000  1030.000000  ...  1030.000000  1030.000000\n",
              "mean    281.167864    73.895825  ...    45.662136    35.817961\n",
              "std     104.506364    86.279342  ...    63.169912    16.705742\n",
              "min     102.000000     0.000000  ...     1.000000     2.330000\n",
              "25%     192.375000     0.000000  ...     7.000000    23.710000\n",
              "50%     272.900000    22.000000  ...    28.000000    34.445000\n",
              "75%     350.000000   142.950000  ...    56.000000    46.135000\n",
              "max     540.000000   359.400000  ...   365.000000    82.600000\n",
              "\n",
              "[8 rows x 9 columns]"
            ]
          },
          "metadata": {
            "tags": []
          },
          "execution_count": 80
        }
      ]
    },
    {
      "cell_type": "code",
      "metadata": {
        "id": "AYrE_rKDfxN4"
      },
      "source": [
        "X_train = data.sample(frac = 0.7, random_state = 123)\n",
        "X_test = data.drop(X_train.index)"
      ],
      "execution_count": null,
      "outputs": []
    },
    {
      "cell_type": "code",
      "metadata": {
        "colab": {
          "base_uri": "https://localhost:8080/"
        },
        "id": "CV90wc80fxV2",
        "outputId": "c07b7cbf-7333-4391-fb5d-278e8fddcb58"
      },
      "source": [
        "data.info()"
      ],
      "execution_count": null,
      "outputs": [
        {
          "output_type": "stream",
          "text": [
            "<class 'pandas.core.frame.DataFrame'>\n",
            "RangeIndex: 1030 entries, 0 to 1029\n",
            "Data columns (total 9 columns):\n",
            " #   Column        Non-Null Count  Dtype  \n",
            "---  ------        --------------  -----  \n",
            " 0   cement        1030 non-null   float64\n",
            " 1   slag          1030 non-null   float64\n",
            " 2   ash           1030 non-null   float64\n",
            " 3   water         1030 non-null   float64\n",
            " 4   superplastic  1030 non-null   float64\n",
            " 5   coarseagg     1030 non-null   float64\n",
            " 6   fineagg       1030 non-null   float64\n",
            " 7   age           1030 non-null   int64  \n",
            " 8   strength      1030 non-null   float64\n",
            "dtypes: float64(8), int64(1)\n",
            "memory usage: 72.5 KB\n"
          ],
          "name": "stdout"
        }
      ]
    },
    {
      "cell_type": "code",
      "metadata": {
        "id": "Q8_TfsBwfxZk"
      },
      "source": [
        "Y_train = X_train.iloc[:,-1]\n",
        "X_train = X_train.iloc[:,0:-1]\n",
        "Y_test = X_test.iloc[:,-1]\n",
        "X_test = X_test.iloc[:,0:-1]\n",
        "X_mean = X_train.mean()\n",
        "X_train -= X_mean\n",
        "X_std = X_train.std()\n",
        "X_train /= X_std\n",
        "X_test -= X_mean\n",
        "X_test /= X_std"
      ],
      "execution_count": null,
      "outputs": []
    },
    {
      "cell_type": "code",
      "metadata": {
        "id": "OOlt_jonfxdR"
      },
      "source": [
        "X_train = X_train.to_numpy()\n",
        "Y_train = Y_train.to_numpy()\n",
        "X_test = X_test.to_numpy()\n",
        "Y_test = Y_test.to_numpy()"
      ],
      "execution_count": null,
      "outputs": []
    },
    {
      "cell_type": "code",
      "metadata": {
        "colab": {
          "base_uri": "https://localhost:8080/"
        },
        "id": "Io9QV0pTDIlW",
        "outputId": "51f8673e-be33-4715-8bd4-7877e27dda66"
      },
      "source": [
        "network = M.Sequential()\n",
        "network.add(L.Dense(128,activation=\"relu\",input_shape=(X_train.shape[1],)))\n",
        "network.add(L.Dense(64,activation=\"relu\"))\n",
        "network.add(L.Dense(32,activation=\"relu\"))\n",
        "network.add(L.Dense(1))\n",
        "network.compile(optimizer=\"rmsprop\",loss=[\"mse\"],metrics=[\"mae\"])\n",
        "history = network.fit(X_train,Y_train,epochs=100,validation_split=0.3, batch_size = 16)"
      ],
      "execution_count": null,
      "outputs": [
        {
          "output_type": "stream",
          "text": [
            "Epoch 1/100\n",
            "32/32 [==============================] - 1s 8ms/step - loss: 1392.6496 - mae: 33.6477 - val_loss: 657.3172 - val_mae: 20.6077\n",
            "Epoch 2/100\n",
            "32/32 [==============================] - 0s 3ms/step - loss: 537.6999 - mae: 18.1685 - val_loss: 231.1709 - val_mae: 12.1946\n",
            "Epoch 3/100\n",
            "32/32 [==============================] - 0s 3ms/step - loss: 233.7482 - mae: 12.3024 - val_loss: 217.0273 - val_mae: 11.9982\n",
            "Epoch 4/100\n",
            "32/32 [==============================] - 0s 3ms/step - loss: 207.5420 - mae: 11.6416 - val_loss: 179.4196 - val_mae: 10.9832\n",
            "Epoch 5/100\n",
            "32/32 [==============================] - 0s 3ms/step - loss: 193.3171 - mae: 11.2969 - val_loss: 174.2244 - val_mae: 10.8184\n",
            "Epoch 6/100\n",
            "32/32 [==============================] - 0s 4ms/step - loss: 163.6258 - mae: 10.4667 - val_loss: 162.1799 - val_mae: 10.5016\n",
            "Epoch 7/100\n",
            "32/32 [==============================] - 0s 3ms/step - loss: 167.6628 - mae: 10.7190 - val_loss: 155.1467 - val_mae: 10.2870\n",
            "Epoch 8/100\n",
            "32/32 [==============================] - 0s 3ms/step - loss: 148.6598 - mae: 10.0903 - val_loss: 149.5363 - val_mae: 10.1399\n",
            "Epoch 9/100\n",
            "32/32 [==============================] - 0s 4ms/step - loss: 140.5335 - mae: 9.7982 - val_loss: 141.3501 - val_mae: 9.8252\n",
            "Epoch 10/100\n",
            "32/32 [==============================] - 0s 4ms/step - loss: 144.5264 - mae: 10.0083 - val_loss: 139.6292 - val_mae: 9.6964\n",
            "Epoch 11/100\n",
            "32/32 [==============================] - 0s 3ms/step - loss: 131.4771 - mae: 9.4040 - val_loss: 138.4534 - val_mae: 9.5974\n",
            "Epoch 12/100\n",
            "32/32 [==============================] - 0s 3ms/step - loss: 129.2898 - mae: 9.2438 - val_loss: 126.5342 - val_mae: 9.1890\n",
            "Epoch 13/100\n",
            "32/32 [==============================] - 0s 3ms/step - loss: 111.6385 - mae: 8.7293 - val_loss: 124.8451 - val_mae: 9.0083\n",
            "Epoch 14/100\n",
            "32/32 [==============================] - 0s 3ms/step - loss: 125.2189 - mae: 9.3310 - val_loss: 122.1873 - val_mae: 8.8306\n",
            "Epoch 15/100\n",
            "32/32 [==============================] - 0s 3ms/step - loss: 109.2652 - mae: 8.4764 - val_loss: 117.5853 - val_mae: 8.6176\n",
            "Epoch 16/100\n",
            "32/32 [==============================] - 0s 3ms/step - loss: 105.3871 - mae: 8.4060 - val_loss: 109.5400 - val_mae: 8.3947\n",
            "Epoch 17/100\n",
            "32/32 [==============================] - 0s 3ms/step - loss: 79.4522 - mae: 7.3022 - val_loss: 106.0803 - val_mae: 8.2583\n",
            "Epoch 18/100\n",
            "32/32 [==============================] - 0s 3ms/step - loss: 77.4236 - mae: 7.2013 - val_loss: 100.4933 - val_mae: 7.8041\n",
            "Epoch 19/100\n",
            "32/32 [==============================] - 0s 3ms/step - loss: 79.2292 - mae: 7.2216 - val_loss: 94.9206 - val_mae: 7.6872\n",
            "Epoch 20/100\n",
            "32/32 [==============================] - 0s 3ms/step - loss: 67.3314 - mae: 6.6203 - val_loss: 88.6073 - val_mae: 7.3841\n",
            "Epoch 21/100\n",
            "32/32 [==============================] - 0s 3ms/step - loss: 68.2593 - mae: 6.5693 - val_loss: 82.7947 - val_mae: 6.9568\n",
            "Epoch 22/100\n",
            "32/32 [==============================] - 0s 3ms/step - loss: 71.4387 - mae: 6.5378 - val_loss: 80.9968 - val_mae: 7.0048\n",
            "Epoch 23/100\n",
            "32/32 [==============================] - 0s 3ms/step - loss: 57.4439 - mae: 6.0217 - val_loss: 78.5345 - val_mae: 6.7742\n",
            "Epoch 24/100\n",
            "32/32 [==============================] - 0s 3ms/step - loss: 50.4052 - mae: 5.6220 - val_loss: 74.3769 - val_mae: 6.6106\n",
            "Epoch 25/100\n",
            "32/32 [==============================] - 0s 3ms/step - loss: 49.3233 - mae: 5.6036 - val_loss: 73.2629 - val_mae: 6.4160\n",
            "Epoch 26/100\n",
            "32/32 [==============================] - 0s 3ms/step - loss: 43.4759 - mae: 5.0736 - val_loss: 68.0159 - val_mae: 6.2452\n",
            "Epoch 27/100\n",
            "32/32 [==============================] - 0s 3ms/step - loss: 40.1685 - mae: 4.9189 - val_loss: 63.5907 - val_mae: 6.1178\n",
            "Epoch 28/100\n",
            "32/32 [==============================] - 0s 3ms/step - loss: 41.8314 - mae: 5.0484 - val_loss: 70.6035 - val_mae: 6.4908\n",
            "Epoch 29/100\n",
            "32/32 [==============================] - 0s 3ms/step - loss: 43.7604 - mae: 5.1150 - val_loss: 60.5338 - val_mae: 5.7086\n",
            "Epoch 30/100\n",
            "32/32 [==============================] - 0s 3ms/step - loss: 33.4959 - mae: 4.4295 - val_loss: 61.0087 - val_mae: 5.7452\n",
            "Epoch 31/100\n",
            "32/32 [==============================] - 0s 3ms/step - loss: 37.1260 - mae: 4.7663 - val_loss: 60.0541 - val_mae: 5.9062\n",
            "Epoch 32/100\n",
            "32/32 [==============================] - 0s 3ms/step - loss: 35.0786 - mae: 4.4590 - val_loss: 66.0544 - val_mae: 6.2733\n",
            "Epoch 33/100\n",
            "32/32 [==============================] - 0s 3ms/step - loss: 36.7321 - mae: 4.6105 - val_loss: 58.1151 - val_mae: 5.7820\n",
            "Epoch 34/100\n",
            "32/32 [==============================] - 0s 3ms/step - loss: 32.2368 - mae: 4.4393 - val_loss: 56.2088 - val_mae: 5.5936\n",
            "Epoch 35/100\n",
            "32/32 [==============================] - 0s 3ms/step - loss: 31.2975 - mae: 4.3856 - val_loss: 56.6802 - val_mae: 5.4935\n",
            "Epoch 36/100\n",
            "32/32 [==============================] - 0s 3ms/step - loss: 32.4230 - mae: 4.5403 - val_loss: 52.7859 - val_mae: 5.4348\n",
            "Epoch 37/100\n",
            "32/32 [==============================] - 0s 4ms/step - loss: 28.1023 - mae: 4.0945 - val_loss: 51.5364 - val_mae: 5.3020\n",
            "Epoch 38/100\n",
            "32/32 [==============================] - 0s 3ms/step - loss: 28.6894 - mae: 4.2080 - val_loss: 53.0973 - val_mae: 5.5377\n",
            "Epoch 39/100\n",
            "32/32 [==============================] - 0s 3ms/step - loss: 29.1056 - mae: 4.2391 - val_loss: 47.5004 - val_mae: 5.2375\n",
            "Epoch 40/100\n",
            "32/32 [==============================] - 0s 3ms/step - loss: 28.0434 - mae: 4.0652 - val_loss: 54.6442 - val_mae: 5.7425\n",
            "Epoch 41/100\n",
            "32/32 [==============================] - 0s 3ms/step - loss: 27.9924 - mae: 4.0914 - val_loss: 48.9749 - val_mae: 5.2527\n",
            "Epoch 42/100\n",
            "32/32 [==============================] - 0s 3ms/step - loss: 28.9883 - mae: 4.1761 - val_loss: 47.2187 - val_mae: 5.3396\n",
            "Epoch 43/100\n",
            "32/32 [==============================] - 0s 3ms/step - loss: 25.0687 - mae: 3.7046 - val_loss: 48.2664 - val_mae: 5.1774\n",
            "Epoch 44/100\n",
            "32/32 [==============================] - 0s 3ms/step - loss: 27.1313 - mae: 3.9363 - val_loss: 48.4548 - val_mae: 5.0747\n",
            "Epoch 45/100\n",
            "32/32 [==============================] - 0s 4ms/step - loss: 28.5730 - mae: 4.0236 - val_loss: 47.7215 - val_mae: 5.2754\n",
            "Epoch 46/100\n",
            "32/32 [==============================] - 0s 3ms/step - loss: 29.0729 - mae: 4.1504 - val_loss: 54.1300 - val_mae: 5.6696\n",
            "Epoch 47/100\n",
            "32/32 [==============================] - 0s 3ms/step - loss: 25.1905 - mae: 3.8859 - val_loss: 47.9564 - val_mae: 5.1396\n",
            "Epoch 48/100\n",
            "32/32 [==============================] - 0s 3ms/step - loss: 22.7582 - mae: 3.6756 - val_loss: 53.4057 - val_mae: 5.7794\n",
            "Epoch 49/100\n",
            "32/32 [==============================] - 0s 3ms/step - loss: 23.9695 - mae: 3.6214 - val_loss: 42.7849 - val_mae: 4.9891\n",
            "Epoch 50/100\n",
            "32/32 [==============================] - 0s 3ms/step - loss: 22.8042 - mae: 3.6476 - val_loss: 47.2583 - val_mae: 5.2523\n",
            "Epoch 51/100\n",
            "32/32 [==============================] - 0s 3ms/step - loss: 26.1303 - mae: 3.8872 - val_loss: 46.5366 - val_mae: 5.1219\n",
            "Epoch 52/100\n",
            "32/32 [==============================] - 0s 3ms/step - loss: 26.0974 - mae: 4.0643 - val_loss: 47.2587 - val_mae: 5.0787\n",
            "Epoch 53/100\n",
            "32/32 [==============================] - 0s 4ms/step - loss: 22.5746 - mae: 3.6251 - val_loss: 44.0919 - val_mae: 5.1008\n",
            "Epoch 54/100\n",
            "32/32 [==============================] - 0s 3ms/step - loss: 22.8329 - mae: 3.6987 - val_loss: 44.1089 - val_mae: 4.9633\n",
            "Epoch 55/100\n",
            "32/32 [==============================] - 0s 3ms/step - loss: 27.0527 - mae: 3.7937 - val_loss: 45.0340 - val_mae: 5.1671\n",
            "Epoch 56/100\n",
            "32/32 [==============================] - 0s 3ms/step - loss: 23.6723 - mae: 3.6294 - val_loss: 48.3226 - val_mae: 5.1411\n",
            "Epoch 57/100\n",
            "32/32 [==============================] - 0s 3ms/step - loss: 23.0786 - mae: 3.6281 - val_loss: 46.3932 - val_mae: 5.1386\n",
            "Epoch 58/100\n",
            "32/32 [==============================] - 0s 3ms/step - loss: 23.3305 - mae: 3.6626 - val_loss: 40.7162 - val_mae: 5.0072\n",
            "Epoch 59/100\n",
            "32/32 [==============================] - 0s 4ms/step - loss: 17.8377 - mae: 3.3072 - val_loss: 50.6095 - val_mae: 5.4182\n",
            "Epoch 60/100\n",
            "32/32 [==============================] - 0s 3ms/step - loss: 19.0560 - mae: 3.3644 - val_loss: 47.2610 - val_mae: 5.3160\n",
            "Epoch 61/100\n",
            "32/32 [==============================] - 0s 3ms/step - loss: 20.0030 - mae: 3.4703 - val_loss: 46.5883 - val_mae: 5.2129\n",
            "Epoch 62/100\n",
            "32/32 [==============================] - 0s 3ms/step - loss: 19.5439 - mae: 3.3720 - val_loss: 46.5877 - val_mae: 5.1677\n",
            "Epoch 63/100\n",
            "32/32 [==============================] - 0s 3ms/step - loss: 18.7682 - mae: 3.2886 - val_loss: 61.0584 - val_mae: 6.1421\n",
            "Epoch 64/100\n",
            "32/32 [==============================] - 0s 3ms/step - loss: 20.5658 - mae: 3.4941 - val_loss: 43.1183 - val_mae: 5.0539\n",
            "Epoch 65/100\n",
            "32/32 [==============================] - 0s 3ms/step - loss: 19.7894 - mae: 3.4587 - val_loss: 40.1178 - val_mae: 5.0365\n",
            "Epoch 66/100\n",
            "32/32 [==============================] - 0s 3ms/step - loss: 18.3863 - mae: 3.3364 - val_loss: 44.5749 - val_mae: 4.9905\n",
            "Epoch 67/100\n",
            "32/32 [==============================] - 0s 3ms/step - loss: 21.8419 - mae: 3.4903 - val_loss: 40.2722 - val_mae: 4.9232\n",
            "Epoch 68/100\n",
            "32/32 [==============================] - 0s 3ms/step - loss: 19.9678 - mae: 3.3145 - val_loss: 39.8889 - val_mae: 4.8276\n",
            "Epoch 69/100\n",
            "32/32 [==============================] - 0s 3ms/step - loss: 20.1344 - mae: 3.5197 - val_loss: 41.3143 - val_mae: 4.8195\n",
            "Epoch 70/100\n",
            "32/32 [==============================] - 0s 3ms/step - loss: 20.6137 - mae: 3.5229 - val_loss: 39.7359 - val_mae: 4.8181\n",
            "Epoch 71/100\n",
            "32/32 [==============================] - 0s 3ms/step - loss: 17.7464 - mae: 3.2282 - val_loss: 39.8951 - val_mae: 4.8579\n",
            "Epoch 72/100\n",
            "32/32 [==============================] - 0s 3ms/step - loss: 19.6336 - mae: 3.3835 - val_loss: 40.4753 - val_mae: 4.8146\n",
            "Epoch 73/100\n",
            "32/32 [==============================] - 0s 3ms/step - loss: 17.3286 - mae: 3.2887 - val_loss: 46.7931 - val_mae: 5.0508\n",
            "Epoch 74/100\n",
            "32/32 [==============================] - 0s 3ms/step - loss: 18.7576 - mae: 3.3916 - val_loss: 53.8630 - val_mae: 5.4639\n",
            "Epoch 75/100\n",
            "32/32 [==============================] - 0s 3ms/step - loss: 20.8706 - mae: 3.6118 - val_loss: 41.1342 - val_mae: 4.7865\n",
            "Epoch 76/100\n",
            "32/32 [==============================] - 0s 3ms/step - loss: 18.5753 - mae: 3.3541 - val_loss: 38.2637 - val_mae: 4.7318\n",
            "Epoch 77/100\n",
            "32/32 [==============================] - 0s 3ms/step - loss: 17.8805 - mae: 3.2575 - val_loss: 49.2238 - val_mae: 5.2771\n",
            "Epoch 78/100\n",
            "32/32 [==============================] - 0s 3ms/step - loss: 17.4710 - mae: 3.2297 - val_loss: 45.6887 - val_mae: 5.0356\n",
            "Epoch 79/100\n",
            "32/32 [==============================] - 0s 3ms/step - loss: 19.4006 - mae: 3.4034 - val_loss: 49.8893 - val_mae: 5.4399\n",
            "Epoch 80/100\n",
            "32/32 [==============================] - 0s 3ms/step - loss: 18.2716 - mae: 3.3609 - val_loss: 39.9858 - val_mae: 4.8029\n",
            "Epoch 81/100\n",
            "32/32 [==============================] - 0s 3ms/step - loss: 20.9689 - mae: 3.3978 - val_loss: 39.3298 - val_mae: 4.8072\n",
            "Epoch 82/100\n",
            "32/32 [==============================] - 0s 3ms/step - loss: 17.1926 - mae: 3.2049 - val_loss: 38.2823 - val_mae: 4.6880\n",
            "Epoch 83/100\n",
            "32/32 [==============================] - 0s 3ms/step - loss: 17.9302 - mae: 3.2979 - val_loss: 38.4120 - val_mae: 4.7454\n",
            "Epoch 84/100\n",
            "32/32 [==============================] - 0s 3ms/step - loss: 17.1840 - mae: 3.2465 - val_loss: 36.5923 - val_mae: 4.6958\n",
            "Epoch 85/100\n",
            "32/32 [==============================] - 0s 3ms/step - loss: 16.4172 - mae: 3.1812 - val_loss: 38.8364 - val_mae: 4.6878\n",
            "Epoch 86/100\n",
            "32/32 [==============================] - 0s 3ms/step - loss: 18.0643 - mae: 3.3736 - val_loss: 35.2865 - val_mae: 4.6641\n",
            "Epoch 87/100\n",
            "32/32 [==============================] - 0s 3ms/step - loss: 15.0144 - mae: 2.9379 - val_loss: 37.0718 - val_mae: 4.7444\n",
            "Epoch 88/100\n",
            "32/32 [==============================] - 0s 3ms/step - loss: 17.6716 - mae: 3.2552 - val_loss: 37.7843 - val_mae: 4.7533\n",
            "Epoch 89/100\n",
            "32/32 [==============================] - 0s 3ms/step - loss: 15.2775 - mae: 3.0622 - val_loss: 35.9824 - val_mae: 4.5506\n",
            "Epoch 90/100\n",
            "32/32 [==============================] - 0s 4ms/step - loss: 18.2464 - mae: 3.2759 - val_loss: 40.4591 - val_mae: 4.6807\n",
            "Epoch 91/100\n",
            "32/32 [==============================] - 0s 3ms/step - loss: 18.9737 - mae: 3.3069 - val_loss: 39.7406 - val_mae: 4.8465\n",
            "Epoch 92/100\n",
            "32/32 [==============================] - 0s 3ms/step - loss: 18.1169 - mae: 3.2574 - val_loss: 36.3541 - val_mae: 4.5780\n",
            "Epoch 93/100\n",
            "32/32 [==============================] - 0s 3ms/step - loss: 16.6535 - mae: 3.1908 - val_loss: 38.4232 - val_mae: 4.8677\n",
            "Epoch 94/100\n",
            "32/32 [==============================] - 0s 3ms/step - loss: 15.8454 - mae: 3.0339 - val_loss: 41.4881 - val_mae: 5.0862\n",
            "Epoch 95/100\n",
            "32/32 [==============================] - 0s 3ms/step - loss: 16.9373 - mae: 3.2202 - val_loss: 35.9077 - val_mae: 4.5924\n",
            "Epoch 96/100\n",
            "32/32 [==============================] - 0s 4ms/step - loss: 16.7316 - mae: 3.0089 - val_loss: 57.6186 - val_mae: 5.8478\n",
            "Epoch 97/100\n",
            "32/32 [==============================] - 0s 3ms/step - loss: 15.7434 - mae: 3.1101 - val_loss: 41.3363 - val_mae: 4.8816\n",
            "Epoch 98/100\n",
            "32/32 [==============================] - 0s 3ms/step - loss: 15.8996 - mae: 2.9430 - val_loss: 36.5806 - val_mae: 4.7210\n",
            "Epoch 99/100\n",
            "32/32 [==============================] - 0s 3ms/step - loss: 16.0463 - mae: 2.9974 - val_loss: 34.4090 - val_mae: 4.5059\n",
            "Epoch 100/100\n",
            "32/32 [==============================] - 0s 4ms/step - loss: 15.9912 - mae: 2.9993 - val_loss: 35.1695 - val_mae: 4.6006\n"
          ],
          "name": "stdout"
        }
      ]
    },
    {
      "cell_type": "code",
      "metadata": {
        "colab": {
          "base_uri": "https://localhost:8080/"
        },
        "id": "58_T6zv8DIts",
        "outputId": "3f25dbf9-3397-414a-d611-54af11a038b1"
      },
      "source": [
        "loss, mae=network.evaluate(X_test,Y_test)"
      ],
      "execution_count": null,
      "outputs": [
        {
          "output_type": "stream",
          "text": [
            "10/10 [==============================] - 0s 2ms/step - loss: 36.7462 - mae: 4.3174\n"
          ],
          "name": "stdout"
        }
      ]
    },
    {
      "cell_type": "code",
      "metadata": {
        "id": "lOpjidgTDIzv"
      },
      "source": [
        "val_mae = history.history['val_mae']\n",
        "val_loss = history.history['val_loss']"
      ],
      "execution_count": null,
      "outputs": []
    },
    {
      "cell_type": "code",
      "metadata": {
        "colab": {
          "base_uri": "https://localhost:8080/",
          "height": 295
        },
        "id": "wZ9MkHMTDI5M",
        "outputId": "6c47b536-f8b8-4f4a-bceb-88da24c0ebde"
      },
      "source": [
        "import matplotlib.pyplot as plt \n",
        "history_dict = history.history\n",
        "loss_values = history_dict['loss']\n",
        "val_loss_values = history_dict['val_loss']\n",
        "epochs = range(100)\n",
        "plt.plot(epochs, loss_values, 'bo', label='Training loss')\n",
        "plt.plot(epochs, val_loss_values, 'b', label='Validation loss')\n",
        "plt.title('Training and validation loss')\n",
        "plt.xlabel('Epochs')\n",
        "plt.ylabel('Loss')\n",
        "plt.legend()\n",
        "plt.show()"
      ],
      "execution_count": null,
      "outputs": [
        {
          "output_type": "display_data",
          "data": {
            "image/png": "[encoded data removed]",
            "text/plain": [
              "<Figure size 432x288 with 1 Axes>"
            ]
          },
          "metadata": {
            "tags": [],
            "needs_background": "light"
          }
        }
      ]
    },
    {
      "cell_type": "code",
      "metadata": {
        "colab": {
          "base_uri": "https://localhost:8080/",
          "height": 295
        },
        "id": "OlcHVFlCDI_L",
        "outputId": "c7d748e6-90b5-4f9c-869d-579ffad2c133"
      },
      "source": [
        "acc_values = history_dict['mae']\n",
        "val_acc_values = history_dict['val_mae']\n",
        "plt.plot(epochs, acc_values, 'bo', label='Training mae')\n",
        "plt.plot(epochs, val_acc_values, 'b', label='Validation mae')\n",
        "plt.title('Training and validation accuracy')\n",
        "plt.xlabel('Epochs')\n",
        "plt.ylabel('mae')\n",
        "plt.legend()\n",
        "plt.show()"
      ],
      "execution_count": null,
      "outputs": [
        {
          "output_type": "display_data",
          "data": {
            "image/png": "[encoded data removed]",
            "text/plain": [
              "<Figure size 432x288 with 1 Axes>"
            ]
          },
          "metadata": {
            "tags": [],
            "needs_background": "light"
          }
        }
      ]
    },
    {
      "cell_type": "code",
      "metadata": {
        "id": "fJGc7kv6DJEe"
      },
      "source": [
        "y_pred = network.predict(X_test)"
      ],
      "execution_count": null,
      "outputs": []
    },
    {
      "cell_type": "code",
      "metadata": {
        "id": "rablyJkRfxhc"
      },
      "source": [
        "y_pred = y_pred.reshape(y_pred.shape[0])"
      ],
      "execution_count": null,
      "outputs": []
    },
    {
      "cell_type": "code",
      "metadata": {
        "colab": {
          "base_uri": "https://localhost:8080/"
        },
        "id": "kSmhqhV3o9in",
        "outputId": "a5ad9d46-bd20-48f4-f2dd-8d3095245953"
      },
      "source": [
        "y_pred"
      ],
      "execution_count": null,
      "outputs": [
        {
          "output_type": "execute_result",
          "data": {
            "text/plain": [
              "array([47.969097 , 53.00696  , 30.920288 , 35.95427  , 31.425423 ,\n",
              "       43.210663 , 48.95754  , 48.713837 , 48.24845  , 15.318436 ,\n",
              "       47.592747 , 48.06531  , 53.571396 , 46.080738 , 46.25685  ,\n",
              "       45.562508 , 31.217588 , 31.562824 , 78.48166  , 38.991413 ,\n",
              "       49.971657 , 37.650703 , 33.521782 , 32.63942  , 33.521782 ,\n",
              "       31.061407 , 43.45758  , 53.408203 , 38.62585  , 35.918682 ,\n",
              "       38.625847 , 38.625847 , 47.628773 , 43.625145 , 56.689648 ,\n",
              "       65.45058  , 61.59171  , 63.856415 , 65.01136  , 65.45058  ,\n",
              "       72.93652  , 72.823784 , 60.281845 , 59.31954  , 60.281845 ,\n",
              "       60.281845 , 75.108246 , 83.82706  , 71.11148  , 74.100975 ,\n",
              "       88.40074  , 75.09833  , 28.04022  , 34.116325 , 38.515778 ,\n",
              "       10.418779 , 38.808086 , 41.631836 , 27.832954 , 36.000397 ,\n",
              "       41.29601  , 40.078434 , 19.743906 , 46.488403 , 17.126831 ,\n",
              "       31.043932 ,  8.555604 , 15.43677  , 48.19459  ,  7.6886673,\n",
              "       37.70433  , 33.260075 , 42.713196 , 25.614553 , 42.28575  ,\n",
              "       14.1749   , 43.77256  , 26.140417 , 33.63599  , 31.322317 ,\n",
              "       21.897326 , 46.742004 , 32.432083 , 44.483513 , 20.970499 ,\n",
              "       33.25292  , 51.077915 , 31.945505 , 18.62398  , 42.393425 ,\n",
              "       50.10293  , 53.278862 , 15.899106 , 27.998186 , 55.821808 ,\n",
              "       21.00577  , 33.74112  , 44.068615 , 52.676483 , 31.309134 ,\n",
              "       45.110172 , 68.82416  , 66.87874  , 23.713976 , 35.395485 ,\n",
              "       13.129674 , 26.264359 , 38.39158  , 37.338806 , 70.93135  ,\n",
              "       57.802525 , 51.907356 , 42.891846 , 39.237244 , 42.68148  ,\n",
              "       56.51881  , 60.512474 , 19.986076 , 20.22331  , 15.535855 ,\n",
              "       16.417803 , 16.343071 , 15.560426 , 20.189192 , 29.911106 ,\n",
              "       30.342876 , 27.183023 , 22.693394 , 24.697134 , 41.32757  ,\n",
              "       39.86045  , 38.742104 , 29.301962 , 31.765024 , 40.495636 ,\n",
              "       47.578285 , 37.64736  , 57.02138  , 50.19584  , 53.65292  ,\n",
              "       58.918022 , 42.025154 , 50.599335 , 50.599335 , 50.599335 ,\n",
              "       32.01358  , 36.639442 , 59.091873 , 60.961014 , 53.48037  ,\n",
              "       34.094585 , 34.736176 , 39.372894 , 61.157356 , 61.258533 ,\n",
              "       54.713272 , 43.726543 , 63.074417 , 36.095745 , 62.37542  ,\n",
              "       51.509857 , 34.60955  , 26.708666 , 11.135673 , 41.234627 ,\n",
              "       69.68744  , 46.21084  , 43.586864 , 55.605824 , 26.420046 ,\n",
              "       12.192173 , 13.1750765, 33.53273  , 16.781809 , 45.438828 ,\n",
              "       22.64233  , 12.496217 , 43.32049  , 11.196777 , 20.37822  ,\n",
              "       17.75517  , 26.50728  , 21.85553  ,  7.857557 , 35.752594 ,\n",
              "        5.123577 , 31.544195 , 44.021378 , 26.135406 , 27.090824 ,\n",
              "       16.617792 , 23.679068 , 31.851198 , 41.304356 ,  8.770562 ,\n",
              "       17.539171 , 10.643474 , 19.468695 , 17.108625 , 23.38264  ,\n",
              "       14.96807  , 25.136263 , 34.93923  , 38.37023  , 21.94557  ,\n",
              "       43.511795 , 12.904571 ,  9.066745 , 23.081194 , 12.750356 ,\n",
              "        8.8538885, 15.0352125, 30.470556 , 17.655064 , 22.246103 ,\n",
              "       19.701363 , 20.211096 , 36.65925  ,  9.318728 , 10.4378195,\n",
              "       51.81629  , 15.36337  , 14.832538 , 13.01143  , 23.07887  ,\n",
              "       45.2157   , 73.50023  , 17.938055 , 30.825304 , 40.39141  ,\n",
              "       17.246216 , 21.976585 , 27.586843 , 39.135372 , 15.004045 ,\n",
              "       24.642918 , 20.470675 , 12.396949 , 22.507174 , 41.301167 ,\n",
              "       64.435425 , 56.401733 , 22.888754 , 11.365159 , 35.586655 ,\n",
              "       41.21729  , 38.45948  , 47.007362 , 59.86629  , 37.921032 ,\n",
              "       27.415041 , 38.424282 , 26.681517 , 34.09237  , 37.496567 ,\n",
              "       37.50868  , 16.900057 , 35.423065 , 62.797493 , 38.918762 ,\n",
              "       34.30007  , 41.160114 , 41.49769  , 30.2209   , 41.735874 ,\n",
              "       37.11909  , 31.774607 , 26.90198  , 30.117443 , 31.971107 ,\n",
              "       37.958908 , 40.875927 , 28.033848 , 10.136561 , 25.461576 ,\n",
              "       52.738544 , 13.470847 , 40.02568  , 24.258907 , 32.2207   ,\n",
              "       33.803574 , 36.900352 , 33.99075  , 31.785496 , 31.75183  ,\n",
              "       51.66371  , 30.655767 , 32.010677 , 38.030907 , 40.758503 ,\n",
              "       18.231909 , 15.208106 , 27.857191 , 10.044898 , 24.002043 ,\n",
              "       39.53206  , 37.428696 , 26.606468 , 37.50499  , 46.683754 ,\n",
              "       17.007027 , 49.789894 , 39.02186  , 35.455917 , 41.08528  ,\n",
              "       30.295866 , 42.012974 , 37.024452 , 38.190807 ], dtype=float32)"
            ]
          },
          "metadata": {
            "tags": []
          },
          "execution_count": 92
        }
      ]
    },
    {
      "cell_type": "code",
      "metadata": {
        "colab": {
          "base_uri": "https://localhost:8080/"
        },
        "id": "AuUs5neKo90_",
        "outputId": "8537caf3-2736-4b6e-8c73-02c7ca556d92"
      },
      "source": [
        "Y_test"
      ],
      "execution_count": null,
      "outputs": [
        {
          "output_type": "execute_result",
          "data": {
            "text/plain": [
              "array([40.27, 41.05, 45.85, 38.07, 47.81, 39.36, 56.14, 36.25, 41.54,\n",
              "       15.05, 40.76, 46.93, 41.93, 50.95, 54.38, 55.06, 30.28, 40.86,\n",
              "       71.99, 36.3 , 40.2 , 33.4 , 35.3 , 24.4 , 35.3 , 24.1 , 46.8 ,\n",
              "       54.9 , 55.9 , 47.1 , 55.9 , 55.9 , 56.1 , 59.09, 60.29, 71.3 ,\n",
              "       74.7 , 66.  , 74.5 , 71.3 , 63.4 , 64.9 , 64.3 , 60.2 , 64.3 ,\n",
              "       64.3 , 77.3 , 54.9 , 71.7 , 70.7 , 56.5 , 73.3 , 24.89, 29.45,\n",
              "       34.56, 12.45, 33.96, 37.34, 24.9 , 34.2 , 39.61, 35.34, 22.72,\n",
              "       40.39, 25.48, 28.63,  7.75, 17.82, 49.97, 19.93, 39.59, 29.22,\n",
              "       42.35, 26.31, 42.55, 13.33, 44.4 , 31.35, 33.73, 32.66, 21.5 ,\n",
              "       48.67, 31.12, 34.74, 23.14, 41.89, 48.72, 33.36, 15.36, 30.85,\n",
              "       42.03, 51.06, 21.78, 42.29, 56.85, 21.91, 36.99, 47.4 , 51.96,\n",
              "       30.45, 47.71, 66.82, 66.95, 27.42, 35.96, 18.02, 38.6 , 30.22,\n",
              "       36.3 , 57.23, 78.8 , 60.28, 39.38, 44.33, 52.3 , 58.52, 69.84,\n",
              "       19.42, 14.94, 21.29, 23.08, 15.52, 11.98, 16.88, 33.09, 31.81,\n",
              "       33.01, 24.66, 26.2 , 46.39, 39.16, 41.41, 24.85, 27.22, 44.64,\n",
              "       53.46, 39.64, 55.02, 49.99, 56.81, 50.94, 41.16, 57.03, 44.42,\n",
              "       51.02, 35.36, 39.3 , 61.07, 54.77, 46.68, 25.51, 34.77, 41.67,\n",
              "       56.34, 61.46, 44.03, 33.49, 59.59, 29.55, 61.86, 62.05, 40.29,\n",
              "       21.97,  9.85, 43.73, 66.78, 48.85, 43.94, 54.32, 24.4 , 14.6 ,\n",
              "        9.62, 27.94, 17.24, 39.44, 24.07, 13.09, 38.7 ,  7.51, 17.58,\n",
              "       21.18, 22.63, 25.73,  8.  , 37.44, 10.73, 32.04, 38.89, 21.95,\n",
              "       24.1 , 21.26, 25.97, 32.33, 36.15,  7.84, 12.25, 11.17, 17.34,\n",
              "       17.54, 24.5 , 15.58, 26.85, 38.21, 43.7 , 19.54, 43.38,  6.9 ,\n",
              "        4.9 , 25.89, 10.39, 11.39, 15.03, 33.  , 17.28, 24.28, 14.14,\n",
              "       22.35, 43.25,  4.83, 10.35, 51.86, 15.87, 30.96, 14.5 , 22.44,\n",
              "       44.09, 71.62, 18.13, 27.34, 32.72,  6.27, 23.22, 27.92, 39.  ,\n",
              "       13.52, 25.18, 17.54, 14.2 , 21.65, 39.49, 61.92, 51.04, 24.  ,\n",
              "       11.47, 34.68, 38.11, 33.8 , 48.4 , 58.78, 29.59, 21.75, 39.09,\n",
              "       24.39, 36.35, 33.42, 39.05, 15.57, 44.61, 65.91, 33.4 , 40.06,\n",
              "       38.46, 37.26, 35.23, 41.54, 37.91, 28.63, 31.03, 23.84, 26.23,\n",
              "       40.68, 33.72, 23.52, 13.2 , 23.79, 46.23, 15.52, 43.57, 26.92,\n",
              "       29.07, 26.97, 30.65, 30.88, 28.63, 31.42, 40.93, 32.96, 26.23,\n",
              "       38.63, 33.72,  8.54, 13.46, 29.73, 13.2 , 23.74, 35.87, 33.76,\n",
              "       16.5 , 39.06, 45.3 , 15.57, 52.83, 33.4 , 37.36, 37.27, 35.23,\n",
              "       39.46, 37.92, 32.4 ])"
            ]
          },
          "metadata": {
            "tags": []
          },
          "execution_count": 93
        }
      ]
    },
    {
      "cell_type": "code",
      "metadata": {
        "colab": {
          "base_uri": "https://localhost:8080/",
          "height": 287
        },
        "id": "6y6XQMQrpJuU",
        "outputId": "f07d1ec9-555f-4a25-8697-36dc4af45d9b"
      },
      "source": [
        "coef = np.polyfit(Y_test,y_pred,1)\n",
        "poly1d_fn = np.poly1d(coef) \n",
        "plt.plot(Y_test,y_pred, 'bo', Y_test, poly1d_fn(Y_test), '--k')\n",
        "plt.xlim(0, 100)\n",
        "plt.ylim(0, 100)"
      ],
      "execution_count": null,
      "outputs": [
        {
          "output_type": "execute_result",
          "data": {
            "text/plain": [
              "(0.0, 100.0)"
            ]
          },
          "metadata": {
            "tags": []
          },
          "execution_count": 95
        },
        {
          "output_type": "display_data",
          "data": {
            "image/png": "[encoded data removed]",
            "text/plain": [
              "<Figure size 432x288 with 1 Axes>"
            ]
          },
          "metadata": {
            "tags": [],
            "needs_background": "light"
          }
        }
      ]
    }
  ]
}